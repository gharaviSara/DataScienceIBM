{
  "cells": [
    {
      "cell_type": "markdown",
      "metadata": {
        "id": "view-in-github",
        "colab_type": "text"
      },
      "source": [
        "<a href=\"https://colab.research.google.com/github/gharaviSara/DataScienceIBM/blob/master/QC_DCM_logit_model.ipynb\" target=\"_parent\"><img src=\"https://colab.research.google.com/assets/colab-badge.svg\" alt=\"Open In Colab\"/></a>"
      ]
    },
    {
      "cell_type": "markdown",
      "metadata": {
        "id": "TJHlxbR5kEe-"
      },
      "source": [
        "# QUEBEC DCM MODEL"
      ]
    },
    {
      "cell_type": "markdown",
      "metadata": {
        "id": "qXO6ZtU_F2b4"
      },
      "source": [
        "The following examples provide step-by-step instructions to estimate Quebec Discrete choice model for transport mode using Biogeme .\n"
      ]
    },
    {
      "cell_type": "markdown",
      "metadata": {
        "id": "mra0NiIOFSie"
      },
      "source": [
        "## Install and import `biogeme` package"
      ]
    },
    {
      "cell_type": "markdown",
      "metadata": {
        "id": "rvLSzJP1GfP1"
      },
      "source": [
        "Install `biogeme` using `pip` as shown below. In addition, import the package and check if GPU processing is available."
      ]
    },
    {
      "cell_type": "code",
      "execution_count": 1,
      "metadata": {
        "colab": {
          "base_uri": "https://localhost:8080/"
        },
        "id": "9gL7czF-DLMZ",
        "outputId": "8e0683c1-ef4c-4bad-904b-15b216dd62d6"
      },
      "outputs": [
        {
          "output_type": "stream",
          "name": "stdout",
          "text": [
            "Requirement already satisfied: biogeme in /usr/local/lib/python3.10/dist-packages (3.2.12)\n",
            "Requirement already satisfied: pandas>=1.3.5 in /usr/local/lib/python3.10/dist-packages (from biogeme) (1.5.3)\n",
            "Requirement already satisfied: scipy>=1.7.3 in /usr/local/lib/python3.10/dist-packages (from biogeme) (1.10.1)\n",
            "Requirement already satisfied: tqdm>=4.64.1 in /usr/local/lib/python3.10/dist-packages (from biogeme) (4.66.1)\n",
            "Requirement already satisfied: tomlkit>=0.11.5 in /usr/local/lib/python3.10/dist-packages (from biogeme) (0.12.1)\n",
            "Requirement already satisfied: cythonbiogeme>=1.0.1 in /usr/local/lib/python3.10/dist-packages (from biogeme) (1.0.1)\n",
            "Requirement already satisfied: biogeme-optimization>=0.0.4 in /usr/local/lib/python3.10/dist-packages (from biogeme) (0.0.4)\n",
            "Requirement already satisfied: numpy>=1.24.2 in /usr/local/lib/python3.10/dist-packages (from biogeme-optimization>=0.0.4->biogeme) (1.25.2)\n",
            "Requirement already satisfied: cython>=0.29.16 in /usr/local/lib/python3.10/dist-packages (from cythonbiogeme>=1.0.1->biogeme) (0.29.36)\n",
            "Requirement already satisfied: python-dateutil>=2.8.1 in /usr/local/lib/python3.10/dist-packages (from pandas>=1.3.5->biogeme) (2.8.2)\n",
            "Requirement already satisfied: pytz>=2020.1 in /usr/local/lib/python3.10/dist-packages (from pandas>=1.3.5->biogeme) (2023.3.post1)\n",
            "Requirement already satisfied: six>=1.5 in /usr/local/lib/python3.10/dist-packages (from python-dateutil>=2.8.1->pandas>=1.3.5->biogeme) (1.16.0)\n"
          ]
        }
      ],
      "source": [
        "!pip install biogeme\n"
      ]
    },
    {
      "cell_type": "code",
      "execution_count": 2,
      "metadata": {
        "colab": {
          "base_uri": "https://localhost:8080/"
        },
        "id": "NQbZt7CVh8f_",
        "outputId": "a4f397bc-ff84-4af2-c05c-35d2be2a1d66"
      },
      "outputs": [
        {
          "output_type": "stream",
          "name": "stdout",
          "text": [
            "Requirement already satisfied: numpy in /usr/local/lib/python3.10/dist-packages (1.25.2)\n"
          ]
        }
      ],
      "source": [
        "!pip install numpy"
      ]
    },
    {
      "cell_type": "code",
      "execution_count": 3,
      "metadata": {
        "id": "5bfcNeAyC8QR"
      },
      "outputs": [],
      "source": [
        "import pandas as pd\n",
        "import biogeme.database as db\n",
        "import biogeme.biogeme as bio\n",
        "from biogeme import models\n",
        "from biogeme.expressions import Beta, Variable"
      ]
    },
    {
      "cell_type": "markdown",
      "metadata": {
        "id": "MP77ezqVfvRI"
      },
      "source": [
        "## Quebec Dataset"
      ]
    },
    {
      "cell_type": "markdown",
      "metadata": {
        "id": "n4No84MAeFOM"
      },
      "source": [
        "### Read data"
      ]
    },
    {
      "cell_type": "code",
      "execution_count": 4,
      "metadata": {
        "id": "4jqERhnWhGCc",
        "colab": {
          "base_uri": "https://localhost:8080/"
        },
        "outputId": "6b65072b-2d6b-4b4e-d183-b5975a453d51"
      },
      "outputs": [
        {
          "output_type": "stream",
          "name": "stdout",
          "text": [
            "Mounted at /content/drive/\n",
            "/content/drive/My Drive/Colab Notebooks/data\n"
          ]
        }
      ],
      "source": [
        "from google.colab import drive\n",
        "drive.mount('/content/drive/')\n",
        "%cd /content/drive/My Drive/Colab Notebooks/data/"
      ]
    },
    {
      "cell_type": "code",
      "execution_count": 5,
      "metadata": {
        "id": "1JxPF5uvH-pk"
      },
      "outputs": [],
      "source": [
        "import numpy as np\n",
        "\n",
        "df_car = pd.read_csv(\"od_5000_20230404_car.csv\")[['id_deplacement','mode','travelDurationTraffic_car']].rename(columns={\"travelDurationTraffic_car\":\"tt_car\"})\n",
        "df_pt = pd.read_csv(\"od_5000_20230427_pt.csv\")[['id_deplacement','mode','travelDuration_pt']].rename(columns={\"travelDuration_pt\":\"tt_pt\"})\n",
        "df_walk = pd.read_csv(\"od_5000_20230427_walk.csv\")[['id_deplacement','mode','travelDuration_walk']].rename(columns={\"travelDuration_walk\":\"tt_walk\"})\n",
        "df_person =  pd.read_csv(\"od_5000_20230427_person-income.csv\" )[['cledeplacement', 'revenu', 'nbveh','age']].rename(columns={\"cledeplacement\":\"id_deplacement\"})\n",
        "df_person = df_person[df_person['id_deplacement'].notna()]\n",
        "\n",
        "df_person[\"income_class\"] = df_person[\"revenu\"]\n",
        "df_person.loc[df_person[\"income_class\"].isin([4, 5]), \"income_class\"] = 4\n",
        "df_person.loc[df_person[\"income_class\"].isin([6, 7, 8]), \"income_class\"] = 5\n",
        "df_person.loc[df_person[\"income_class\"] == 9, \"income_class\"] = np.random.choice([1, 2, 3, 4, 5],p=[0.20, 0.30, 0.20, 0.15,0.15],size=None, replace=False)\n",
        "\n"
      ]
    },
    {
      "cell_type": "code",
      "execution_count": 6,
      "metadata": {
        "id": "78DIG3xwaj8M"
      },
      "outputs": [],
      "source": [
        "from numpy.core.numeric import ones\n",
        "df1 = pd.merge(df_car, df_pt , on  = ['id_deplacement','mode'], how='left')\n",
        "df2 = pd.merge(df1, df_walk , on  = ['id_deplacement','mode'], how='left')\n",
        "df = pd.merge(df2, df_person , on='id_deplacement', how='left')\n",
        "\n"
      ]
    },
    {
      "cell_type": "code",
      "source": [
        "df_person.isna().sum()"
      ],
      "metadata": {
        "colab": {
          "base_uri": "https://localhost:8080/"
        },
        "id": "eN3nOgSx51Tp",
        "outputId": "62ee78bd-ea65-44b4-d751-797640122c16"
      },
      "execution_count": 7,
      "outputs": [
        {
          "output_type": "execute_result",
          "data": {
            "text/plain": [
              "id_deplacement    0\n",
              "revenu            0\n",
              "nbveh             0\n",
              "age               0\n",
              "income_class      0\n",
              "dtype: int64"
            ]
          },
          "metadata": {},
          "execution_count": 7
        }
      ]
    },
    {
      "cell_type": "code",
      "execution_count": 8,
      "metadata": {
        "id": "bMtrCR_kihAo",
        "colab": {
          "base_uri": "https://localhost:8080/"
        },
        "outputId": "222f90a1-eb62-4dc0-eeb8-9df0982393fd"
      },
      "outputs": [
        {
          "output_type": "stream",
          "name": "stderr",
          "text": [
            "<ipython-input-8-5e8f1262ccc4>:2: SettingWithCopyWarning: \n",
            "A value is trying to be set on a copy of a slice from a DataFrame.\n",
            "Try using .loc[row_indexer,col_indexer] = value instead\n",
            "\n",
            "See the caveats in the documentation: https://pandas.pydata.org/pandas-docs/stable/user_guide/indexing.html#returning-a-view-versus-a-copy\n",
            "  df_income['income_class'] = df_income['income_class'].fillna(1).astype(int)\n"
          ]
        }
      ],
      "source": [
        "df_income = df[['id_deplacement','income_class']]\n",
        "df_income['income_class'] = df_income['income_class'].fillna(1).astype(int)\n",
        "df_dummies = pd.get_dummies(df_income, columns=['income_class'], prefix='income_class', prefix_sep='_').rename(columns=lambda x: f'inc_{x.split(\"_\")[-1]}')\n",
        "df = pd.merge(df, df_dummies, left_on='id_deplacement', right_on='inc_deplacement', how='left').drop(columns='inc_deplacement')\n",
        "df.loc[df[\"mode\"]=='car', \"choice\"] = 1\n",
        "df.loc[df[\"mode\"]=='car_passenger', \"choice\"] = 2\n",
        "df.loc[df[\"mode\"]=='pt', \"choice\"] = 3\n",
        "df.loc[df[\"mode\"]=='walk', \"choice\"] = 4\n"
      ]
    },
    {
      "cell_type": "code",
      "source": [
        "df.isna().sum()"
      ],
      "metadata": {
        "colab": {
          "base_uri": "https://localhost:8080/"
        },
        "id": "zQtJXyxj5meF",
        "outputId": "81748d2d-509a-43b6-a598-5bec2841f390"
      },
      "execution_count": 9,
      "outputs": [
        {
          "output_type": "execute_result",
          "data": {
            "text/plain": [
              "id_deplacement    0\n",
              "mode              0\n",
              "tt_car            0\n",
              "tt_pt             0\n",
              "tt_walk           0\n",
              "revenu            0\n",
              "nbveh             0\n",
              "age               0\n",
              "income_class      0\n",
              "inc_1             0\n",
              "inc_2             0\n",
              "inc_3             0\n",
              "inc_4             0\n",
              "inc_5             0\n",
              "choice            0\n",
              "dtype: int64"
            ]
          },
          "metadata": {},
          "execution_count": 9
        }
      ]
    },
    {
      "cell_type": "code",
      "execution_count": 10,
      "metadata": {
        "id": "gTkF9zFStJvK"
      },
      "outputs": [],
      "source": [
        "df.loc[df[\"nbveh\"]> 0  , \"av1\"] = 1\n",
        "df['av2'] = 1\n",
        "df['av3'] = 1\n",
        "df['av4'] = 1\n",
        "df = df.fillna(0)\n",
        "\n"
      ]
    },
    {
      "cell_type": "code",
      "execution_count": 11,
      "metadata": {
        "id": "9tdV7g8fvNcw"
      },
      "outputs": [],
      "source": [
        "df = df.drop(columns='mode')"
      ]
    },
    {
      "cell_type": "code",
      "execution_count": 12,
      "metadata": {
        "id": "1RU-df2Vuydq"
      },
      "outputs": [],
      "source": [
        "database = db.Database('odqc', df)\n",
        "\n",
        "\n",
        "globals().update(database.variables)"
      ]
    },
    {
      "cell_type": "code",
      "execution_count": 13,
      "metadata": {
        "id": "dkk412t6x5Qn",
        "colab": {
          "base_uri": "https://localhost:8080/"
        },
        "outputId": "63168227-f524-4d2e-e4f0-25450ba343a6"
      },
      "outputs": [
        {
          "output_type": "execute_result",
          "data": {
            "text/plain": [
              "Index(['id_deplacement', 'tt_car', 'tt_pt', 'tt_walk', 'revenu', 'nbveh',\n",
              "       'age', 'income_class', 'inc_1', 'inc_2', 'inc_3', 'inc_4', 'inc_5',\n",
              "       'choice', 'av1', 'av2', 'av3', 'av4'],\n",
              "      dtype='object')"
            ]
          },
          "metadata": {},
          "execution_count": 13
        }
      ],
      "source": [
        "df.columns"
      ]
    },
    {
      "cell_type": "markdown",
      "metadata": {
        "id": "UkfFmr7fiFxc"
      },
      "source": [
        "###Define the data base variable\n"
      ]
    },
    {
      "cell_type": "code",
      "execution_count": 14,
      "metadata": {
        "id": "zkm0f2JNwoT4"
      },
      "outputs": [],
      "source": [
        "TT_C = database.DefineVariable('TT_C',  (tt_car /60 ))\n",
        "TT_PT = database.DefineVariable('TT_PT',  (tt_pt /60 ))\n",
        "TT_CP = database.DefineVariable('TT_CP',  (tt_car /60 ))\n",
        "TT_W = database.DefineVariable('TT_W',  (tt_walk /60 ))\n"
      ]
    },
    {
      "cell_type": "code",
      "execution_count": 17,
      "metadata": {
        "id": "e1hv8kWKM7iY"
      },
      "outputs": [],
      "source": [
        "VOT1_C   = database.DefineVariable('VOT1_C',  (tt_car /60 ) * inc_1 )\n",
        "VOT1_CP  = database.DefineVariable('VOT1_CP', (tt_car /60 ) * inc_1 )\n",
        "VOT1_PT  = database.DefineVariable('VOT1_PT', (tt_pt /60)   * inc_1 )\n",
        "VOT1_W   = database.DefineVariable('VOT1_W',  (tt_pt /60)   * inc_1 )\n",
        "\n",
        "VOT2_C   = database.DefineVariable('VOT2_C',  (tt_car /60 ) * inc_2 )\n",
        "VOT2_CP  = database.DefineVariable('VOT2_CP', (tt_car /60 ) * inc_2 )\n",
        "VOT2_PT  = database.DefineVariable('VOT2_PT', (tt_pt /60)   * inc_2 )\n",
        "VOT2_W   = database.DefineVariable('VOT2_W',  (tt_pt /60)   * inc_2 )\n",
        "\n",
        "VOT3_C   = database.DefineVariable('VOT3_C',  (tt_car /60 ) * inc_4 )\n",
        "VOT3_CP  = database.DefineVariable('VOT3_CP', (tt_car /60 ) * inc_4 )\n",
        "VOT3_PT  = database.DefineVariable('VOT3_PT', (tt_pt /60)   * inc_4 )\n",
        "VOT3_W   = database.DefineVariable('VOT3_W',  (tt_pt /60)   * inc_4 )\n",
        "\n",
        "\n",
        "VOT4_C   = database.DefineVariable('VOT4_C',  (tt_car /60 ) * inc_4 )\n",
        "VOT4_CP  = database.DefineVariable('VOT4_CP', (tt_car /60 ) * inc_4 )\n",
        "VOT4_PT  = database.DefineVariable('VOT4_PT', (tt_pt /60)   * inc_4 )\n",
        "VOT4_W   = database.DefineVariable('VOT4_W',  (tt_pt /60)   * inc_4 )\n",
        "\n",
        "VOT5_C   = database.DefineVariable('VOT5_C',  (tt_car /60 ) * inc_5 )\n",
        "VOT5_CP  = database.DefineVariable('VOT5_CP', (tt_car /60 ) * inc_5 )\n",
        "VOT5_PT  = database.DefineVariable('VOT5_PT', (tt_pt /60)   * inc_5 )\n",
        "VOT5_W   = database.DefineVariable('VOT5_W',  (tt_pt /60)   * inc_5 )\n",
        "\n"
      ]
    },
    {
      "cell_type": "code",
      "execution_count": 18,
      "metadata": {
        "id": "gQfRSMAaM-gg"
      },
      "outputs": [],
      "source": [
        "AV_C = database.DefineVariable('AV_C', av1 )\n",
        "AV_CP = database.DefineVariable('AV_CP', av2 )\n",
        "AV_PT = database.DefineVariable('AV_PT', av3 )\n",
        "AV_W = database.DefineVariable('AV_W', av4 )"
      ]
    },
    {
      "cell_type": "markdown",
      "metadata": {
        "id": "lNg7a6sy2ctG"
      },
      "source": [
        "###Parameter to be estimated"
      ]
    },
    {
      "cell_type": "markdown",
      "metadata": {
        "id": "8IRpITly2q8k"
      },
      "source": [
        "ASC (alternative specific constants)"
      ]
    },
    {
      "cell_type": "code",
      "execution_count": 19,
      "metadata": {
        "id": "lRG-m6y11oQd"
      },
      "outputs": [],
      "source": [
        "ASC_C  = Beta('ASC_C',  0, None, None, 1)\n",
        "ASC_CP = Beta('ASC_CP', 0, None, None, 0)\n",
        "ASC_PT = Beta('ASC_PT', 0, None, None, 0)\n",
        "ASC_W  = Beta('ASC_W',  0, None, None, 0)"
      ]
    },
    {
      "cell_type": "code",
      "execution_count": 20,
      "metadata": {
        "id": "KfBEIIRd7LCJ"
      },
      "outputs": [],
      "source": [
        "B_TT_C = Beta('B_TT_C', 0, None, None, 0)\n",
        "B_TT_PT  = Beta('B_TT_PT', 0, None, None, 0)\n",
        "B_TT_CP = Beta('B_TT_CP', 0, None, None, 0)\n",
        "B_TT_W  = Beta('B_TT_W', 0, None, None, 0)\n",
        "\n",
        "\n"
      ]
    },
    {
      "cell_type": "code",
      "execution_count": 22,
      "metadata": {
        "id": "hDNMq665OhSY"
      },
      "outputs": [],
      "source": [
        "B_VOT1_C   = Beta('B_VOT1_C',  0, None, None, 0 )\n",
        "B_VOT1_CP  = Beta('B_VOT1_CP', 0, None, None, 0 )\n",
        "B_VOT1_PT  = Beta('B_VOT1_PT', 0, None, None, 0 )\n",
        "B_VOT1_W   = Beta('B_VOT1_W',  0, None, None, 0 )\n",
        "\n",
        "B_VOT2_C   = Beta('B_VOT2_C',  0, None, None, 0 )\n",
        "B_VOT2_CP  = Beta('B_VOT2_CP', 0, None, None, 0 )\n",
        "B_VOT2_PT  = Beta('B_VOT2_PT', 0, None, None, 0 )\n",
        "B_VOT2_W   = Beta('B_VOT2_W',  0, None, None, 0 )\n",
        "\n",
        "B_VOT3_C   = Beta('B_VOT3_C',  0, None, None, 0 )\n",
        "B_VOT3_CP  = Beta('B_VOT3_CP', 0, None, None, 0 )\n",
        "B_VOT3_PT  = Beta('B_VOT3_PT', 0, None, None, 0 )\n",
        "B_VOT3_W   = Beta('B_VOT3_W',  0, None, None, 0 )\n",
        "\n",
        "B_VOT4_C   = Beta('B_VOT4_C',  0, None, None, 0 )\n",
        "B_VOT4_CP  = Beta('B_VOT4_CP', 0, None, None, 0 )\n",
        "B_VOT4_PT  = Beta('B_VOT4_PT', 0, None, None, 0 )\n",
        "B_VOT4_W   = Beta('B_VOT4_W',  0, None, None, 0 )\n",
        "\n",
        "B_VOT5_C   = Beta('B_VOT5_C',  0, None, None, 0 )\n",
        "B_VOT5_CP  = Beta('B_VOT5_CP', 0, None, None, 0 )\n",
        "B_VOT5_PT  = Beta('B_VOT5_PT', 0, None, None, 0 )\n",
        "B_VOT5_W   = Beta('B_VOT5_W',  0, None, None, 0 )\n",
        "\n"
      ]
    },
    {
      "cell_type": "markdown",
      "metadata": {
        "id": "WgV4c42g-R4_"
      },
      "source": [
        "###Utility functions\n"
      ]
    },
    {
      "cell_type": "code",
      "execution_count": 23,
      "metadata": {
        "id": "KvTejr5B-gag"
      },
      "outputs": [],
      "source": [
        "V1 = (ASC_C + B_TT_C * TT_C +B_VOT1_C * VOT1_C + B_VOT2_C * VOT2_C + B_VOT3_C * VOT3_C + B_VOT4_C * VOT4_C + B_VOT5_C * VOT5_C)\n",
        "V2 = (ASC_CP + B_TT_CP * TT_CP + B_VOT1_CP * VOT1_CP + B_VOT2_CP * VOT2_CP + B_VOT3_CP * VOT3_CP + B_VOT4_CP * VOT4_CP + B_VOT5_CP * VOT5_CP)\n",
        "V3 = (ASC_PT + B_TT_PT * TT_PT+ B_VOT1_PT * VOT1_PT + B_VOT2_PT * VOT2_PT + B_VOT3_PT * VOT3_PT + B_VOT4_PT* VOT4_PT + B_VOT5_PT * VOT5_PT)\n",
        "V4 = (ASC_W + B_TT_W * TT_W + B_VOT1_W * VOT1_W + B_VOT2_W * VOT2_W + B_VOT3_W * VOT3_W + B_VOT4_W * VOT4_W + B_VOT5_W * VOT5_W)"
      ]
    },
    {
      "cell_type": "code",
      "execution_count": 24,
      "metadata": {
        "id": "CA8xgTnqKO2r"
      },
      "outputs": [],
      "source": [
        "# V1 = ( ASC_C +B_TT_C * TT_C)\n",
        "# V2 = ( ASC_CP +B_TT_CP * TT_CP)\n",
        "# V3 = (ASC_PT +B_TT_PT * TT_PT)\n",
        "# V4 = ( ASC_W +B_TT_W * TT_W)\n"
      ]
    },
    {
      "cell_type": "code",
      "execution_count": 25,
      "metadata": {
        "id": "KaxukJqfHRVk"
      },
      "outputs": [],
      "source": [
        "# Associate utility functions with the numbering of alternatives\n",
        "V = {1: V1,\n",
        "     2: V2,\n",
        "     3: V3,\n",
        "     4: V4}\n",
        "\n",
        "# Associate the availability conditions with the alternatives\n",
        "\n",
        "av = {1: 1, 2: 1, 3: 1, 4: 1 }"
      ]
    },
    {
      "cell_type": "code",
      "execution_count": 26,
      "metadata": {
        "id": "DzY6u5omIoIr",
        "colab": {
          "base_uri": "https://localhost:8080/"
        },
        "outputId": "56d095d0-5ed2-43ea-9ca6-5e74178c5569"
      },
      "outputs": [
        {
          "output_type": "stream",
          "name": "stdout",
          "text": [
            "                  Value   Rob. Std err  Rob. t-test  Rob. p-value\n",
            "ASC_CP    -1.080784e+00   4.340393e-02   -24.900609  0.000000e+00\n",
            "ASC_PT    -1.797474e+00   4.569304e-02   -39.338031  0.000000e+00\n",
            "ASC_W      5.847514e-01   6.001705e-02     9.743087  0.000000e+00\n",
            "B_INC1     6.376329e-19   1.736916e-15     0.000367  9.997071e-01\n",
            "B_INC2    -7.918660e-21  1.797693e+308    -0.000000  1.000000e+00\n",
            "B_INC3    -2.177587e-19   1.649373e-15    -0.000132  9.998947e-01\n",
            "B_INC4    -2.763893e-19  1.797693e+308    -0.000000  1.000000e+00\n",
            "B_INC5     1.385435e-19  1.797693e+308     0.000000  1.000000e+00\n",
            "B_TT_C    -8.142238e-03   5.129509e-03    -1.587333  1.124372e-01\n",
            "B_TT_CP   -4.048923e-02   6.284992e-03    -6.442210  1.177465e-10\n",
            "B_TT_PT   -5.916601e-03   1.552215e-03    -3.811714  1.380064e-04\n",
            "B_TT_W    -6.855762e-02   3.359158e-03   -20.409166  0.000000e+00\n",
            "B_VOT1_C  -2.221352e-02   7.008273e-03    -3.169615  1.526413e-03\n",
            "B_VOT1_CP -1.243457e-02   8.267771e-03    -1.503981  1.325863e-01\n",
            "B_VOT1_PT -4.078323e-03   2.423243e-03    -1.683002  9.237468e-02\n",
            "B_VOT1_W  -2.750773e-02   4.931627e-03    -5.577819  2.435523e-08\n",
            "B_VOT2_C  -9.269455e-03   7.248818e-03    -1.278754  2.009837e-01\n",
            "B_VOT2_CP -1.256687e-02   9.040207e-03    -1.390109  1.644958e-01\n",
            "B_VOT2_PT -2.554210e-03   2.384671e-03    -1.071095  2.841266e-01\n",
            "B_VOT2_W  -2.621512e-02   5.892217e-03    -4.449110  8.622689e-06\n",
            "B_VOT3_C  -3.235801e-03   3.091856e-03    -1.046556  2.953044e-01\n",
            "B_VOT3_CP -1.922920e-04   3.618954e-03    -0.053135  9.576246e-01\n",
            "B_VOT3_PT -6.817461e-04   1.026718e-03    -0.664005  5.066868e-01\n",
            "B_VOT3_W  -2.074683e-02   2.840584e-03    -7.303721  2.799982e-13\n",
            "B_VOT4_C  -3.235801e-03   3.091856e-03    -1.046556  2.953044e-01\n",
            "B_VOT4_CP -1.922920e-04   3.618954e-03    -0.053135  9.576246e-01\n",
            "B_VOT4_PT -6.817461e-04   1.026718e-03    -0.664005  5.066868e-01\n",
            "B_VOT4_W  -2.074683e-02   2.840584e-03    -7.303721  2.799982e-13\n",
            "B_VOT5_C  -7.620423e-03   7.825136e-03    -0.973839  3.301365e-01\n",
            "B_VOT5_CP  3.448757e-04   9.226042e-03     0.037381  9.701815e-01\n",
            "B_VOT5_PT -1.420651e-03   2.643377e-03    -0.537438  5.909652e-01\n",
            "B_VOT5_W  -2.232767e-02   7.274296e-03    -3.069393  2.144944e-03\n"
          ]
        }
      ],
      "source": [
        "# Definition of the model. This is the contribution of each\n",
        "# observation to the log likelihood function.\n",
        "logprob = models.loglogit(V, av, choice)\n",
        "\n",
        "# Create the Biogeme object\n",
        "biogeme = bio.BIOGEME(database, logprob)\n",
        "biogeme.modelName = 'mnl_quebec'\n",
        "\n",
        "biogeme.calculateNullLoglikelihood(av)\n",
        "\n",
        "# Estimate the parameters\n",
        "results = biogeme.estimate()\n",
        "\n",
        "# Get the results in a pandas table\n",
        "pandasResults = results.getEstimatedParameters()\n",
        "print(pandasResults)"
      ]
    }
  ],
  "metadata": {
    "accelerator": "GPU",
    "colab": {
      "provenance": [],
      "include_colab_link": true
    },
    "kernelspec": {
      "display_name": "Python 3 (Spyder)",
      "language": "python3",
      "name": "python3"
    },
    "language_info": {
      "codemirror_mode": {
        "name": "ipython",
        "version": 3
      },
      "file_extension": ".py",
      "mimetype": "text/x-python",
      "name": "python",
      "nbconvert_exporter": "python",
      "pygments_lexer": "ipython3",
      "version": "3.7.7"
    }
  },
  "nbformat": 4,
  "nbformat_minor": 0
}